{
 "cells": [
  {
   "cell_type": "markdown",
   "metadata": {},
   "source": [
    "### Оглавление"
   ]
  },
  {
   "cell_type": "markdown",
   "metadata": {},
   "source": [
    "1. [Task_1](#task1)    \n",
    "2. [Task_2](#task2)\n",
    "3. [Task_3](#task3)\n",
    "4. [Task_4](#task4)\n",
    "5. [Task_5](#task5)"
   ]
  },
  {
   "cell_type": "markdown",
   "metadata": {},
   "source": [
    "### Task_1\n",
    "<a id='task1'></a>"
   ]
  },
  {
   "cell_type": "code",
   "execution_count": 5,
   "metadata": {},
   "outputs": [
    {
     "name": "stdout",
     "output_type": "stream",
     "text": [
      "Unique geo tags for all users are {98, 35, 15, 213, 54, 119}\n",
      "End of program\n"
     ]
    }
   ],
   "source": [
    "ids = {'user1': [213, 213, 213, 15, 213],\n",
    "'user2': [54, 54, 119, 119, 119],\n",
    "'user3': [213, 98, 98, 35]}\n",
    "unique_geo_tags = []\n",
    "for geo_tags in ids.values():\n",
    "    unique_geo_tags += geo_tags\n",
    "print('Unique geo tags for all users are', set(unique_geo_tags))\n",
    "print('End of program')"
   ]
  },
  {
   "cell_type": "markdown",
   "metadata": {},
   "source": [
    "### Task_2\n",
    "<a id='task2'></a>"
   ]
  },
  {
   "cell_type": "code",
   "execution_count": 41,
   "metadata": {},
   "outputs": [
    {
     "name": "stdout",
     "output_type": "stream",
     "text": [
      "Search queries containing3 words: 57 %\n",
      "Search queries containing2 words: 43 %\n"
     ]
    }
   ],
   "source": [
    "queries = [\n",
    "    'смотреть сериалы онлайн',\n",
    "    'новости спорта',\n",
    "    'афиша кино',\n",
    "    'курс доллара',\n",
    "    'сериалы этим летом',\n",
    "    'курс по питону',\n",
    "    'сериалы про спорт',\n",
    "]\n",
    "count_words_list = [len(string.split(' ')) for string in queries] # список с кол-вом слов в каждой строке \n",
    "count = {quantity: count_words_list.count(quantity) for quantity in count_words_list}\n",
    "for word_count, quantity in count.items(): \n",
    "        print(f\"Search queries containing{word_count} words: {round(quantity*100 / len(queries))} %\"\n",
    "        \n",
    "# формула count.values()*100/ strings для преобразования в %\n"
   ]
  },
  {
   "cell_type": "markdown",
   "metadata": {},
   "source": [
    "### Task_3\n",
    "<a id='task3'></a>"
   ]
  },
  {
   "cell_type": "code",
   "execution_count": 29,
   "metadata": {},
   "outputs": [
    {
     "data": {
      "text/plain": [
       "{'adwords': {'revenue': 35, 'cost': 34, 'ROI': 2.94},\n",
       " 'facebook': {'revenue': 103, 'cost': 110, 'ROI': -6.36},\n",
       " 'twitter': {'revenue': 11, 'cost': 24, 'ROI': -54.17},\n",
       " 'vk': {'revenue': 103, 'cost': 98, 'ROI': 5.1},\n",
       " 'yandex': {'revenue': 179, 'cost': 153, 'ROI': 16.99}}"
      ]
     },
     "execution_count": 29,
     "metadata": {},
     "output_type": "execute_result"
    }
   ],
   "source": [
    "results = {\n",
    "    'vk': {'revenue': 103, 'cost': 98},\n",
    "    'yandex': {'revenue': 179, 'cost': 153},\n",
    "    'facebook': {'revenue': 103, 'cost': 110},\n",
    "    'adwords': {'revenue': 35, 'cost': 34},\n",
    "    'twitter': {'revenue': 11, 'cost': 24},\n",
    "}\n",
    "\n",
    "# ROI по формуле (revenue/cost - 1) * 100 и добавляем для каждого values подсловаря\n",
    "for company, expenses in results.items():\n",
    "        expenses['ROI'] = round((expenses['revenue'] / expenses['cost'] - 1) * 100, 2)\n",
    "dict(sorted(results.items()))"
   ]
  },
  {
   "cell_type": "markdown",
   "metadata": {},
   "source": [
    "### Task_4\n",
    "<a id='task4'></a>"
   ]
  },
  {
   "cell_type": "code",
   "execution_count": 38,
   "metadata": {},
   "outputs": [
    {
     "name": "stdout",
     "output_type": "stream",
     "text": [
      "Максимальный объем продаж на рекламном канале: vk\n"
     ]
    }
   ],
   "source": [
    "stats = {'facebook': 12, 'yandex': 115, 'vk': 120, 'google': 99, 'email': 42, 'ok': 98}\n",
    "# Первый вариант решения(после просмотра вебинара по теме, понял что не верное)\n",
    "inv_stats = {} \n",
    "for company, volume_of_sales in stats.items():   # инвертируем элементы словаря, добавляя в новый \n",
    "    inv_stats.setdefault(volume_of_sales, company)\n",
    "sort_stats = sorted(inv_stats.items(), reverse = True) # сортировка в обратном порядке\n",
    "print(F'Maximum sales on an advertising channel: {sort_stats[0][1]}')"
   ]
  },
  {
   "cell_type": "markdown",
   "metadata": {},
   "source": [
    "### Task_5\n",
    "<a id='task5'></a>\n"
   ]
  },
  {
   "cell_type": "code",
   "execution_count": 2,
   "metadata": {},
   "outputs": [
    {
     "name": "stdout",
     "output_type": "stream",
     "text": [
      "Задать список из любого кол-ва элементов: 1 2 3 4 \n",
      "{'1': {'2': {'3': {'4': ''}}}}\n"
     ]
    }
   ],
   "source": [
    "my_list = input('Задать список из любого кол-ва элементов: ').split(' ')\n",
    "\n",
    "last_elments = dict([my_list[-2:]])  # формируем отдельный словарь из 2 последних элементов списка. \n",
    "\n",
    "final_dict = {}\n",
    "copy_dict = final_dict\n",
    "\n",
    "for per in my_list[:-2]:\n",
    "    copy_dict[per] = {}\n",
    "    copy_dict = copy_dict[per]\n",
    "copy_dict.update(last_elments)      \n",
    "    \n",
    "print(final_dict)"
   ]
  },
  {
   "cell_type": "markdown",
   "metadata": {},
   "source": [
    "### Task_6\n"
   ]
  },
  {
   "cell_type": "code",
   "execution_count": 14,
   "metadata": {},
   "outputs": [
    {
     "name": "stdout",
     "output_type": "stream",
     "text": [
      "Введите количество порций: 5\n",
      "сыр 350гр\n",
      "томаты 10шт\n",
      "огурцы 100гр\n",
      "маслины 50гр\n",
      "оливковое масло 100мл\n",
      "салат 50гр\n",
      "перец 100гр\n",
      "колбаса 150гр\n",
      "бекон 150гр\n",
      "оливки 50гр\n",
      "томаты 100гр\n",
      "тесто 500гр\n",
      "лимон 5шт\n",
      "вода 1000мл\n",
      "сахар 50гр\n",
      "лайм 100гр\n"
     ]
    }
   ],
   "source": [
    "\n",
    "cook_book = {\n",
    "  'салат': [\n",
    "     {'ingridient_name': 'сыр', 'quantity': 50, 'measure': 'гр'},\n",
    "     {'ingridient_name': 'томаты', 'quantity': 2, 'measure': 'шт'},\n",
    "     {'ingridient_name': 'огурцы', 'quantity': 20, 'measure': 'гр'},\n",
    "     {'ingridient_name': 'маслины', 'quantity': 10, 'measure': 'гр'},\n",
    "     {'ingridient_name': 'оливковое масло', 'quantity': 20, 'measure': 'мл'},\n",
    "     {'ingridient_name': 'салат', 'quantity': 10, 'measure': 'гр'},\n",
    "     {'ingridient_name': 'перец', 'quantity': 20, 'measure': 'гр'}\n",
    "    ],\n",
    "  'пицца': [\n",
    "     {'ingridient_name': 'сыр', 'quantity': 20, 'measure': 'гр'},\n",
    "     {'ingridient_name': 'колбаса', 'quantity': 30, 'measure': 'гр'},\n",
    "     {'ingridient_name': 'бекон', 'quantity': 30, 'measure': 'гр'},\n",
    "     {'ingridient_name': 'оливки', 'quantity': 10, 'measure': 'гр'},\n",
    "     {'ingridient_name': 'томаты', 'quantity': 20, 'measure': 'гр'},\n",
    "     {'ingridient_name': 'тесто', 'quantity': 100, 'measure': 'гр'},   \n",
    "    ],\n",
    "  'лимонад': [\n",
    "     {'ingridient_name': 'лимон', 'quantity': 1, 'measure': 'шт'},\n",
    "     {'ingridient_name': 'вода', 'quantity': 200, 'measure': 'мл'},\n",
    "     {'ingridient_name': 'сахар', 'quantity': 10, 'measure': 'гр'},\n",
    "     {'ingridient_name': 'лайм', 'quantity': 20, 'measure': 'гр'},    \n",
    "    ]\n",
    "}\n",
    "\n",
    "persons = int(input('Введите количество порций: '))\n",
    "\n",
    "shop_dict = {}\n",
    "for dish in cook_book.values():\n",
    "    for ingr in dish:\n",
    "        if (ingr['ingridient_name'], ingr['measure']) not in shop_dict:\n",
    "            shop_dict[(ingr['ingridient_name'], ingr['measure'])] = {'quantity': ingr['quantity'] * persons}\n",
    "        else:\n",
    "            shop_dict[(ingr['ingridient_name'], ingr['measure'])]['quantity'] += ingr['quantity'] * persons\n",
    "\n",
    "\n",
    "for name, q in shop_dict.items():\n",
    "    print(f'{name[0]} {q[\"quantity\"]}{name[1]}')"
   ]
  },
  {
   "cell_type": "code",
   "execution_count": null,
   "metadata": {},
   "outputs": [],
   "source": []
  }
 ],
 "metadata": {
  "kernelspec": {
   "display_name": "Python 3",
   "language": "python",
   "name": "python3"
  },
  "language_info": {
   "codemirror_mode": {
    "name": "ipython",
    "version": 3
   },
   "file_extension": ".py",
   "mimetype": "text/x-python",
   "name": "python",
   "nbconvert_exporter": "python",
   "pygments_lexer": "ipython3",
   "version": "3.8.5"
  }
 },
 "nbformat": 4,
 "nbformat_minor": 4
}

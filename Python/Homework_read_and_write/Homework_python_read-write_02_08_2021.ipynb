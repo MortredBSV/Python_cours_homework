{
 "cells": [
  {
   "cell_type": "code",
   "execution_count": 2,
   "metadata": {},
   "outputs": [],
   "source": [
    "\"\"\"Переведите содержимое файла purchase_log.txt в словарь purchases вида:\n",
    "{‘1840e0b9d4’: ‘Продукты’, …}.\n",
    "\n",
    "Для каждого user_id в файле visit_log.csv определите третий столбец с категорией покупки\n",
    "(если покупка была, сам файл visit_log.csv изменять не надо).\n",
    "Запишите в файл funnel.csv визиты из файла visit_log.csv, в которых были покупки с указанием категории.\n",
    "\n",
    "Учтите условия на данные:\n",
    "  1. содержимое purchase_log.txt помещается в оперативную память компьютера.\n",
    "  2. содержимое visit_log.csv - нет; используйте только построчную обработку этого файла.\n",
    "  \n",
    "\"\"\"\n",
    "\n",
    "import json\n",
    "purchases = {}\n",
    "\n",
    "with open('purchase_log.txt', encoding='utf-8') as file_1, open('visit_log.csv', encoding='utf-8') as file_2, open('funnel.csv', 'w') as file_3:\n",
    "    for line in file_1: \n",
    "        line = line.strip()\n",
    "        temp_list = json.loads(line)\n",
    "        purchases[temp_list['user_id']]=temp_list['category']     "
   ]
  },
  {
   "cell_type": "code",
   "execution_count": null,
   "metadata": {},
   "outputs": [],
   "source": []
  }
 ],
 "metadata": {
  "kernelspec": {
   "display_name": "Python 3",
   "language": "python",
   "name": "python3"
  },
  "language_info": {
   "codemirror_mode": {
    "name": "ipython",
    "version": 3
   },
   "file_extension": ".py",
   "mimetype": "text/x-python",
   "name": "python",
   "nbconvert_exporter": "python",
   "pygments_lexer": "ipython3",
   "version": "3.8.5"
  }
 },
 "nbformat": 4,
 "nbformat_minor": 4
}

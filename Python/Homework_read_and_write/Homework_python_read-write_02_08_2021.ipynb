{
 "cells": [
  {
   "cell_type": "code",
   "execution_count": 4,
   "metadata": {},
   "outputs": [],
   "source": [
    "\"\"\"Переведите содержимое файла purchase_log.txt в словарь purchases вида:\n",
    "{‘1840e0b9d4’: ‘Продукты’, …}.\n",
    "\n",
    "Для каждого user_id в файле visit_log.csv определите третий столбец с категорией покупки\n",
    "(если покупка была, сам файл visit_log.csv изменять не надо).\n",
    "Запишите в файл funnel.csv визиты из файла visit_log.csv, в которых были покупки с указанием категории.\n",
    "\n",
    "Учтите условия на данные:\n",
    "  1. содержимое purchase_log.txt помещается в оперативную память компьютера.\n",
    "  2. содержимое visit_log.csv - нет; используйте только построчную обработку этого файла.\n",
    "  \n",
    "\"\"\"\n",
    "\n",
    "import json\n",
    "purchases = {}\n",
    "            \n",
    "with open('purchase_log.txt', encoding='utf-8') as file_1, open('visit_log.csv', encoding='utf-8') as file_2, open('funnel.csv', 'w') as file_3:\n",
    "    next(file_1)           \n",
    "    for line in file_1: \n",
    "        line = line.strip()\n",
    "        temp_list = json.loads(line)\n",
    "        purchases[temp_list['user_id']]=temp_list['category'] \n",
    "                   \n",
    "    for line in file_2:\n",
    "        line_list = line.strip().split(',') \n",
    "        if line_list[0] in purchases.keys(): # Ищем совпадения со словарем purchases, по ключам. \n",
    "            line_list.append(purchases[line_list[0]]) # Если таковые есть, то добавляем 3 столбец.            \n",
    "            add_line = ', '.join(line_list) # Так же добавляем знак препинания и \\n.\n",
    "        elif line_list[0] == 'user_id':  \n",
    "            line_list.append(\"category\") # Добавляем 3й заголовок.\n",
    "            add_line = ', '.join(line_list)\n",
    "        else:\n",
    "            add_line = ', '.join(line_list) # И если нет совпадений, то просто вводим знак препинания и \\n.\n",
    "        file_3.write(add_line + '\\n')\n",
    "        "
   ]
  },
  {
   "cell_type": "code",
   "execution_count": null,
   "metadata": {},
   "outputs": [],
   "source": []
  }
 ],
 "metadata": {
  "kernelspec": {
   "display_name": "Python 3",
   "language": "python",
   "name": "python3"
  },
  "language_info": {
   "codemirror_mode": {
    "name": "ipython",
    "version": 3
   },
   "file_extension": ".py",
   "mimetype": "text/x-python",
   "name": "python",
   "nbconvert_exporter": "python",
   "pygments_lexer": "ipython3",
   "version": "3.8.5"
  }
 },
 "nbformat": 4,
 "nbformat_minor": 4
}

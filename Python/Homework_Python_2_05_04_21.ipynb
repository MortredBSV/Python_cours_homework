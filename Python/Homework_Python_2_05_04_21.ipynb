{
 "cells": [
  {
   "cell_type": "markdown",
   "metadata": {},
   "source": [
    "### Task_1\n"
   ]
  },
  {
   "cell_type": "code",
   "execution_count": 1,
   "metadata": {},
   "outputs": [
    {
     "name": "stdout",
     "output_type": "stream",
     "text": [
      "fire\n",
      "2 middle letters -  ir\n",
      "End of the program.\n"
     ]
    }
   ],
   "source": [
    "#Enter the word\n",
    "word = input() \n",
    "if len(word) % 2 == 0:\n",
    "    print('2 middle letters - ' , word[int(len(word) / 2 - 1) : int(len(word) / 2 + 1)])\n",
    "elif len(word) % 2 != 0:\n",
    "    print('middle letter - ' , word[int(len(word) / 2) : int(len(word) / 2 + 1)])\n",
    "print('End of the program.')\n",
    "#Потом понял, что можно было сделать через переменную и не городить забор из скобок. Прошу прощения - таков путь."
   ]
  },
  {
   "cell_type": "markdown",
   "metadata": {},
   "source": [
    "### Task_2\n"
   ]
  },
  {
   "cell_type": "code",
   "execution_count": 5,
   "metadata": {},
   "outputs": [
    {
     "name": "stdout",
     "output_type": "stream",
     "text": [
      "1\n",
      "2\n",
      "3\n",
      "4\n",
      "5\n",
      "6\n",
      "0\n",
      "сумма всех чисел -  21\n",
      "Конец программы.\n"
     ]
    }
   ],
   "source": [
    "number = int(input())\n",
    "zero_number = 0\n",
    "while number != 0:\n",
    "    zero_number += number\n",
    "    number = int(input())\n",
    "print('сумма всех чисел - ', zero_number)\n",
    "print('Конец программы.')\n"
   ]
  },
  {
   "cell_type": "markdown",
   "metadata": {},
   "source": [
    "### Task_3\n",
    "\n"
   ]
  },
  {
   "cell_type": "code",
   "execution_count": null,
   "metadata": {},
   "outputs": [
    {
     "name": "stdout",
     "output_type": "stream",
     "text": [
      "Saha\n"
     ]
    }
   ],
   "source": [
    "boys = input().split(',')\n",
    "girls = input().split(',')\n",
    "if len(boys) == len(girls):\n",
    "    print('Идеальные пары:')\n",
    "    for perfect_couples in sorted(list(zip(boys, girls))):\n",
    "        print(f'{perfect_couples[0]} и {perfect_couples[1]}') \n",
    "elif len(boys) != len(girls):\n",
    "    print('Внимание, кто-то может остаться без пары!')\n",
    "print('Конец программы.')"
   ]
  },
  {
   "cell_type": "markdown",
   "metadata": {},
   "source": [
    "### Task_4\n"
   ]
  },
  {
   "cell_type": "code",
   "execution_count": 5,
   "metadata": {},
   "outputs": [
    {
     "name": "stdout",
     "output_type": "stream",
     "text": [
      "Средняя температура в странах:\n",
      "Thailand - 23.9 C\n",
      "Germany - 13.8 C\n",
      "Russia - 3.7 C\n",
      "Poland - 12.0 C\n",
      "Конец программы.\n"
     ]
    }
   ],
   "source": [
    "\n",
    "# The answer must be in Celsius \n",
    "# t°C = ( a°F − 32) / 1.8 \n",
    "countries_temperature = [\n",
    "    ['Thailand', [75.2, 77, 78.8, 73.4, 68, 75.2, 77],],\n",
    "    ['Germany', [57.2, 55.4, 59, 59, 53.6],],\n",
    "    ['Russia', [35.6, 37.4, 39.2, 41, 42.8, 39.2, 35.6],],\n",
    "    ['Poland', [50, 50, 53.6, 57.2, 55.4, 55.4]]\n",
    "]\n",
    "print('Средняя температура в странах:')\n",
    "for country_name, country_temperature, kakoy_to_petuh in countries_temperature:\n",
    "    average_temperature = sum(country_temperature) / len(country_temperature)\n",
    "    print(f'{country_name} - {round((average_temperature - 32) / 1.8, 1)} C')\n",
    "print('Конец программы.')"
   ]
  }
 ],
 "metadata": {
  "kernelspec": {
   "display_name": "Python 3",
   "language": "python",
   "name": "python3"
  },
  "language_info": {
   "codemirror_mode": {
    "name": "ipython",
    "version": 3
   },
   "file_extension": ".py",
   "mimetype": "text/x-python",
   "name": "python",
   "nbconvert_exporter": "python",
   "pygments_lexer": "ipython3",
   "version": "3.8.5"
  }
 },
 "nbformat": 4,
 "nbformat_minor": 4
}

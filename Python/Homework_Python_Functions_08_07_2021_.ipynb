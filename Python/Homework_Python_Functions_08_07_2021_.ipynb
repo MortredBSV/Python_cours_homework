{
 "cells": [
  {
   "cell_type": "code",
   "execution_count": 18,
   "metadata": {},
   "outputs": [
    {
     "name": "stdout",
     "output_type": "stream",
     "text": [
      "Ввести команду: p\n",
      "Ввести номер документа: 10006\n",
      "Владелец документа: Аристарх Павлов\n",
      "Ввести команду: s\n",
      "Ввести номер документа: 10006\n",
      "Документ хранится на полке: 2\n",
      "Ввести команду: l\n",
      "№: 2207 876234, тип: passport, владелец: Василий Гупкин, полка хранения: 1\n",
      "№: 11-2, тип: invoice, владелец: Геннадий Покемонов, полка хранения: 1\n",
      "№: 10006, тип: insurance, владелец: Аристарх Павлов, полка хранения: 2\n",
      "Ввести команду: ads\n",
      "Введите номер полки: 12\n",
      "Полка добавлена. Текущий перечень полок: 1, 2, 3, 12.\n",
      "Ввести команду: ds\n",
      "Введите номер полки: 10006\n",
      "Такой полки не существует. Текущий перечень полок: 1, 2, 3, 12.\n",
      "Ввести команду: q\n"
     ]
    }
   ],
   "source": [
    "documents = [\n",
    " {'type': 'passport', 'number': '2207 876234', 'name': 'Василий Гупкин'},\n",
    " {'type': 'invoice', 'number': '11-2', 'name': 'Геннадий Покемонов'},\n",
    " {'type': 'insurance', 'number': '10006', 'name': 'Аристарх Павлов'}\n",
    "]\n",
    "\n",
    "directories = {\n",
    " '1': ['2207 876234', '11-2'],\n",
    " '2': ['10006'],\n",
    " '3': []\n",
    "}\n",
    "\n",
    "def main(documents, directories):\n",
    "    while True:\n",
    "        command = input('Ввести команду: ')\n",
    "        \n",
    "        if command == 'p':     # Поиск владельца документа по его номеру.\n",
    "            doc_owner(documents)\n",
    "            \n",
    "        elif command == 's':   # Определение на какой полке находится документ, по его номеру.\n",
    "            shelf_number(directories)\n",
    "            \n",
    "        elif command == 'l':   # Полной информации, по всем документам.\n",
    "            full_info(documents)\n",
    "            \n",
    "        elif command == 'ads':  # Добавление новой полки и перечисление номеров всех имеющихся полок.\n",
    "            shelf_list(directories)\n",
    "            \n",
    "        elif command == 'ds':   # Удаление существующей полки из данных (только если она пустая).\n",
    "            del_shelf(directories)\n",
    "            \n",
    "        elif command == 'ad':   # Добавляет новый документ в пустую полку и выводит обновленную полную информацию.\n",
    "            add_new_document_in_full_info(directories, documents) \n",
    "                   \n",
    "        elif command == 'd':   # Удаление всей информации о персоне, по номеру его документа, с выводом общей информации.\n",
    "            delete_document(directories, documents) \n",
    "            \n",
    "        elif command == 'm':   # Перемешение номера документа на др. полку, с выводом общей информации.\n",
    "            moving_document(directories, documents)\n",
    "            \n",
    "        elif command == 'q':  # Завершение программы.\n",
    "            break\n",
    "    \n",
    "\n",
    "main(documents, directories)\n",
    "\n"
   ]
  },
  {
   "cell_type": "markdown",
   "metadata": {},
   "source": [
    "## Задание_1\n",
    "### Пункт_1. \n"
   ]
  },
  {
   "cell_type": "code",
   "execution_count": 8,
   "metadata": {},
   "outputs": [
    {
     "name": "stdout",
     "output_type": "stream",
     "text": [
      "Ввести номер документа: 2207 876234\n",
      "Владелец документа: Василий Гупкин\n"
     ]
    }
   ],
   "source": [
    "def doc_owner(documents):\n",
    "    ''' Функция для поиска владельца документа по его номеру.\n",
    "    '''\n",
    "    doc_number = input('Ввести номер документа: ')\n",
    "    for full_dict in documents:\n",
    "        if full_dict['number'] in full_dict.values() and full_dict['number'] == doc_number:\n",
    "            print(f\"Владелец документа: {full_dict['name']}\")\n",
    "            break\n",
    "            \n",
    "    else:\n",
    "        print(\"Документ не найден в базе.\")\n",
    "doc_owner(documents)"
   ]
  },
  {
   "cell_type": "markdown",
   "metadata": {},
   "source": [
    "### Пункт_2."
   ]
  },
  {
   "cell_type": "code",
   "execution_count": 9,
   "metadata": {},
   "outputs": [
    {
     "name": "stdout",
     "output_type": "stream",
     "text": [
      "Ввести номер документа: 1\n",
      "Документ не найден в базе.\n"
     ]
    }
   ],
   "source": [
    "def shelf_number(directories):\n",
    "    ''' Функция для определения на какой полке находится документ, по его номеру.\n",
    "    '''\n",
    "    doc_number = input('Ввести номер документа: ')\n",
    "    for shelf, doc_list in directories.items():\n",
    "        if doc_number in doc_list:\n",
    "            print(f'Документ хранится на полке: {shelf}')\n",
    "            break  \n",
    "    else:\n",
    "        print(\"Документ не найден в базе.\")\n",
    "shelf_number(directories)"
   ]
  },
  {
   "cell_type": "markdown",
   "metadata": {},
   "source": [
    "### Пункт_3. "
   ]
  },
  {
   "cell_type": "code",
   "execution_count": 10,
   "metadata": {},
   "outputs": [
    {
     "name": "stdout",
     "output_type": "stream",
     "text": [
      "№: 2207 876234, тип: passport, владелец: Василий Гупкин, полка хранения: 1\n",
      "№: 11-2, тип: invoice, владелец: Геннадий Покемонов, полка хранения: 1\n",
      "№: 10006, тип: insurance, владелец: Аристарх Павлов, полка хранения: 2\n"
     ]
    }
   ],
   "source": [
    "def full_info(documents):\n",
    "    ''' Функция для выведения полной информации на экран, по всем документам.\n",
    "    '''\n",
    "   \n",
    "    for person_info in documents:\n",
    "        filtred_list = list(filter(lambda string: person_info['number'] in string[1], directories.items()))[0]\n",
    "        person_info['shelf_number'] = filtred_list[0]\n",
    "        print(f'№: {person_info[\"number\"]}, тип: {person_info[\"type\"]}, владелец: {person_info[\"name\"]}, полка хранения: {person_info[\"shelf_number\"]}')\n",
    "full_info(documents)"
   ]
  },
  {
   "cell_type": "markdown",
   "metadata": {},
   "source": [
    "### Пункт 4."
   ]
  },
  {
   "cell_type": "code",
   "execution_count": 11,
   "metadata": {},
   "outputs": [
    {
     "name": "stdout",
     "output_type": "stream",
     "text": [
      "Введите номер полки: 12\n",
      "Полка добавлена. Текущий перечень полок: 1, 2, 3, 12.\n"
     ]
    }
   ],
   "source": [
    "def shelf_list(directories):\n",
    "    ''' Функция для добавления новой полки и перечисление номеров всех имеющихся полок.\n",
    "    '''\n",
    "    shelf_number = input('Введите номер полки: ')   \n",
    "    for string in directories.items():\n",
    "        if shelf_number in string[0]:\n",
    "            print(f\"Такая полка уже существует. Текущий перечень полок: {', '.join(list(directories))}.\")\n",
    "            break\n",
    "    else:\n",
    "        directories[shelf_number] = 0\n",
    "        print(f\"Полка добавлена. Текущий перечень полок: {', '.join(list(directories))}.\")\n",
    "                \n",
    "            \n",
    "shelf_list(directories)"
   ]
  },
  {
   "cell_type": "markdown",
   "metadata": {},
   "source": [
    "### Пункт 5."
   ]
  },
  {
   "cell_type": "code",
   "execution_count": 14,
   "metadata": {},
   "outputs": [
    {
     "name": "stdout",
     "output_type": "stream",
     "text": [
      "Введите номер полки: 12\n",
      "Такой полки не существует. Текущий перечень полок: 1, 2, 3.\n"
     ]
    }
   ],
   "source": [
    "def del_shelf(directories):\n",
    "    ''' Функция выполняет удаление существующей полки из данных (только если она пустая).\n",
    "    '''\n",
    "    shelf_number = input('Введите номер полки: ')\n",
    "    for shelf, doc_list  in directories.items():\n",
    "        if shelf_number not in directories:\n",
    "            print(f\"Такой полки не существует. Текущий перечень полок: {', '.join(list(directories))}.\")\n",
    "            break\n",
    "        elif shelf_number in directories and directories.get(shelf_number) == []:\n",
    "            del directories[shelf_number]\n",
    "            print(f\"Полка удалена. Текущий перечень полок: {', '.join(list(directories))}.\")\n",
    "            break\n",
    "            \n",
    "        print(f\"На полке есть документы, удалите их перед удалением полки. Текущий перечень полок: {', '.join(list(directories))}.\")\n",
    "        break  \n",
    "del_shelf(directories)"
   ]
  }
 ],
 "metadata": {
  "kernelspec": {
   "display_name": "Python 3",
   "language": "python",
   "name": "python3"
  },
  "language_info": {
   "codemirror_mode": {
    "name": "ipython",
    "version": 3
   },
   "file_extension": ".py",
   "mimetype": "text/x-python",
   "name": "python",
   "nbconvert_exporter": "python",
   "pygments_lexer": "ipython3",
   "version": "3.8.5"
  }
 },
 "nbformat": 4,
 "nbformat_minor": 4
}

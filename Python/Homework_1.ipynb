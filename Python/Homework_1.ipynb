{
 "cells": [
  {
   "cell_type": "markdown",
   "metadata": {},
   "source": [
    "# Homework_pyton_1\n"
   ]
  },
  {
   "cell_type": "markdown",
   "metadata": {},
   "source": [
    "**Task_1**"
   ]
  },
  {
   "cell_type": "code",
   "execution_count": 94,
   "metadata": {
    "scrolled": true
   },
   "outputs": [
    {
     "name": "stdout",
     "output_type": "stream",
     "text": [
      "Phrase_1 longer than Phrase_2\n",
      "Finish\n"
     ]
    }
   ],
   "source": [
    "phrase_1 = 'Насколько проще было бы писать программы, если бы не заказчики'\n",
    "phrase_2 = '640Кб должно хватить для любых задач. Билл Гейтс (по легенде)'\n",
    "\n",
    "if len(phrase_1) > len(phrase_2):\n",
    "    print ('Phrase_1 longer than Phrase_2')\n",
    "elif len(phrase_1) < len(phrase_2):\n",
    "    print ('Phrase_2 longer than Phrase_1')\n",
    "elif len(phrase_1) == len(phrase_2):\n",
    "    print ('Phrase_2 equal Phrase_1')\n",
    "\n",
    "else:\n",
    "    print ('Error')\n",
    "print ('Finish')"
   ]
  },
  {
   "cell_type": "markdown",
   "metadata": {},
   "source": [
    "**Task_2**"
   ]
  },
  {
   "cell_type": "code",
   "execution_count": 2,
   "metadata": {},
   "outputs": [
    {
     "name": "stdout",
     "output_type": "stream",
     "text": [
      "Enter the year number2020\n",
      "leap year\n"
     ]
    }
   ],
   "source": [
    "y = int(input('Enter the year number'))\n",
    "\n",
    "if y % 4 != 0:\n",
    "    print(\"simple year\")\n",
    "elif y % 100 == 0:\n",
    "    if y % 400 == 0:\n",
    "        print(\"leap year\")\n",
    "    else:\n",
    "        print(\"simple year\")\n",
    "else:\n",
    "    print(\"leap year\")\n"
   ]
  },
  {
   "cell_type": "markdown",
   "metadata": {},
   "source": [
    "**Task_3**"
   ]
  },
  {
   "cell_type": "code",
   "execution_count": 5,
   "metadata": {},
   "outputs": [
    {
     "name": "stdout",
     "output_type": "stream",
     "text": [
      "Enter the day number08\n",
      "Enter the month08\n",
      "zodiac: Leo\n"
     ]
    }
   ],
   "source": [
    "day = int(input('Enter the day number'))\n",
    "month = int(input('Enter the month'))\n",
    "\n",
    "if (day >= 21 and day <= 31 and month == 3) or( month == 4 and day >=1 and day <= 19):\n",
    "\n",
    "   print(\"zodiac: Aries\")\n",
    "\n",
    "elif (day >= 20 and day <=30 and month == 4) or( month==5 and day >=1 and day <=20):\n",
    "\n",
    "   print(\"zodiac: Taurus\")\n",
    "\n",
    "elif (day >= 21 and day <= 31 and month == 5) or( month == 6 and day >= 1 and day <= 21):\n",
    "\n",
    "   print(\"zodiac: Gemini\")\n",
    "\n",
    "elif (day >= 22 and day <= 30 and month == 6) or( month==7 and day >= 1 and day <= 22):\n",
    "\n",
    "   print(\"zodiac: Cancer\")\n",
    "\n",
    "elif (day >= 23 and day <= 31 and month==7) or( month==8 and day >=1 and day <=22):\n",
    "\n",
    "   print(\"zodiac: Leo\")\n",
    "\n",
    "elif (day >= 23 and day <= 31 and month == 8) or( month == 9 and day >= 1 and day <= 22):\n",
    "\n",
    "   print(\"zodiac: Virgo\")\n",
    "\n",
    "elif (day >= 23 and day <= 30 and month==9) or( month==10 and day >=1 and day <= 23):\n",
    "\n",
    "   print(\"zodiac: Libra\")\n",
    "\n",
    "elif (day >= 24 and day <= 31 and month==10) or( month == 11 and day >= 1 and day <= 22):\n",
    "\n",
    "   print(\"zodiac: Scorpio\")\n",
    "\n",
    "elif (day >= 23 and day <= 30 and month==11) or( month==12 and day >= 1 and day <= 21):\n",
    "\n",
    "   print(\"zodiac: Sagittarius\")\n",
    "\n",
    "elif (day >= 22 and day <= 31 and month == 12) or( month ==1 and day >=1 and day <= 20):\n",
    "\n",
    "   print(\"zodiac: Capricorne\")\n",
    "\n",
    "elif (day >= 21 and day <= 31 and month==1) or( month==2 and day >= 1 and day <= 18):\n",
    "\n",
    "   print(\"zodiac: Aquarius\")\n",
    "\n",
    "elif (day >= 19 and day <= 29 and month==2) or( month==3 and day >= 1 and day <= 20):\n",
    "\n",
    "   print(\"zodiac: Pisces\")"
   ]
  },
  {
   "cell_type": "markdown",
   "metadata": {},
   "source": [
    "**Task_4**"
   ]
  },
  {
   "cell_type": "code",
   "execution_count": null,
   "metadata": {},
   "outputs": [],
   "source": [
    "weigth = int(input('Ввести вес товара - '))\n",
    "length = int(input('Ввести высоту товара - '))\n",
    "height = int(input('Ввести толщина товара - '))\n",
    "if weigth < 15 and length < 15 and height < 15:\n",
    "    print('Коробка №1')\n",
    "elif ((weigth > 15 and weigth < 50)\n",
    "      or (length > 15 and length < 50)\n",
    "      or (height > 15 and height < 50)): \n",
    "    print('Коробка №2')\n",
    "if length > 200:\n",
    "    print('Упаковка для лыж')\n",
    "else:\n",
    "    print('Стандартная коробка №3')\n",
    "print('Конец программы.')"
   ]
  }
 ],
 "metadata": {
  "kernelspec": {
   "display_name": "Python 3",
   "language": "python",
   "name": "python3"
  },
  "language_info": {
   "codemirror_mode": {
    "name": "ipython",
    "version": 3
   },
   "file_extension": ".py",
   "mimetype": "text/x-python",
   "name": "python",
   "nbconvert_exporter": "python",
   "pygments_lexer": "ipython3",
   "version": "3.8.5"
  }
 },
 "nbformat": 4,
 "nbformat_minor": 4
}

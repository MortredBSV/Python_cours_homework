{
 "cells": [
  {
   "cell_type": "markdown",
   "metadata": {},
   "source": [
    "## Домашнее задание по теме «Основы Python»"
   ]
  },
  {
   "cell_type": "markdown",
   "metadata": {},
   "source": [
    "**Task_1**\n"
   ]
  },
  {
   "cell_type": "code",
   "execution_count": null,
   "metadata": {},
   "outputs": [],
   "source": [
    "phrase_1 = input(\"Введите первую фразу: \")\n",
    "phrase_2 = input(\"Введите вторую фразу: \")\n",
    "\n",
    "if len(phrase_1) > len(phrase_2):\n",
    "    print ('Фраза 1 длиннее фразы 2')\n",
    "elif len(phrase_1) < len(phrase_2):\n",
    "    print ('Фраза 2 длиннее фразы 1')\n",
    "else:\n",
    "    print('фразы равны')\n",
    "print('Конец программы')"
   ]
  },
  {
   "cell_type": "markdown",
   "metadata": {},
   "source": [
    "**Task_2**\n"
   ]
  },
  {
   "cell_type": "code",
   "execution_count": 2,
   "metadata": {},
   "outputs": [
    {
     "name": "stdout",
     "output_type": "stream",
     "text": [
      "Enter the year: 2020\n",
      "Високосный\n",
      "Конец программы.\n"
     ]
    }
   ],
   "source": [
    "year = int(input(\"Enter the year: \"))\n",
    "if year % 4 != 0 or (year % 100 == 0 and year % 400 != 0):\n",
    "    print(\"Обычный\")\n",
    "else:\n",
    "    print(\"Високосный\")\n",
    "print('Конец программы.')"
   ]
  },
  {
   "cell_type": "markdown",
   "metadata": {},
   "source": [
    "**Task_3**\n"
   ]
  },
  {
   "cell_type": "code",
   "execution_count": 2,
   "metadata": {},
   "outputs": [
    {
     "name": "stdout",
     "output_type": "stream",
     "text": [
      "Enter the day: 15\n",
      "Enter the month: January\n",
      "Your sign is Capricorn\n",
      "End of the program.\n"
     ]
    }
   ],
   "source": [
    "day = int(input('Enter the day: '))\n",
    "month = input('Enter the month: ')\n",
    "if month == 'January' and day >= 21 and day <= 31 or month == 'February' and day >= 1 and day <= 18:\n",
    "    print('Your sign is Aquarius')\n",
    "elif month == 'February' and day >= 19 and day <= 29 or month == 'March' and day >= 1 and date <= 20:\n",
    "    print('Your sign is Pisces')\n",
    "elif month == 'March' and day >= 21 and day <= 31 or month == 'April' and day >= 1 and date <= 19:\n",
    "    print('Your sign is Aries')\n",
    "elif month == 'April' and day >= 20 and day <= 30 or month == 'May' and day >= 1 and day <= 20:\n",
    "    print('Your sign is Taurus')\n",
    "elif month == 'May' and day >= 21 and day <= 31 or month == 'June' and day >= 1 and day <= 21:\n",
    "    print('Your sign is Gemini ')\n",
    "elif month == 'June' and day >= 22 and day <= 30 or month == 'July' and day >= 1 and day <= 22:\n",
    "    print('Your sign is Cancer')\n",
    "elif month == 'July' and day >= 23 and day <= 31 or month == 'August' and day >= 1 and day <= 22:\n",
    "    print('Your sign is Lion')\n",
    "elif month == 'August' and day >= 23 and day <= 31 or month == 'September' and day >= 1 and day <= 22:\n",
    "    print('Your sign is Virgo')\n",
    "elif month == 'September' and day >= 23 and day <= 30 or month == 'October' and day >= 1 and day <= 23:\n",
    "    print('Your sign is Libra ')\n",
    "elif month == 'October' and day >= 24 and day <= 31 or month == 'November' and day >= 1 and day <= 22:\n",
    "    print('Your sign is Scorpio')\n",
    "elif month == 'November' and day >= 23 and day <= 30 or month == 'December' and day >= 1 and day <= 21:\n",
    "    print('Your sign is Sagittarius')\n",
    "elif month == 'December' and day >= 22 and day <= 31 or month == 'January' and day >= 1 and day <= 20:\n",
    "    print('Your sign is Capricorn')\n",
    "print('End of the programme.')\n"
   ]
  },
  {
   "cell_type": "markdown",
   "metadata": {},
   "source": [
    "**Task_4**"
   ]
  },
  {
   "cell_type": "code",
   "execution_count": 4,
   "metadata": {},
   "outputs": [
    {
     "name": "stdout",
     "output_type": "stream",
     "text": [
      "weight 45\n",
      "length 205\n",
      "height 45\n",
      "Ski box\n",
      "End of the programme\n"
     ]
    }
   ],
   "source": [
    "# w - weight, l - length, h - height\n",
    "\n",
    "w = int(input('weight '))\n",
    "l = int(input('length '))\n",
    "h = int(input('height ''))\n",
    "\n",
    "if (w < 15 and l < 15 and h < 15):\n",
    "    print('Box #1')\n",
    "elif l > 200:\n",
    "    print('Ski box')\n",
    "elif ( 15 < w < 50 or 15 < l < 50 or 15 < h < 50):\n",
    "    print('Box #2')\n",
    "else:\n",
    "    print('Standart Box #3')\n",
    "print('End of the programme')"
   ]
  },
  {
   "cell_type": "code",
   "execution_count": null,
   "metadata": {},
   "outputs": [],
   "source": []
  }
 ],
 "metadata": {
  "kernelspec": {
   "display_name": "Python 3",
   "language": "python",
   "name": "python3"
  },
  "language_info": {
   "codemirror_mode": {
    "name": "ipython",
    "version": 3
   },
   "file_extension": ".py",
   "mimetype": "text/x-python",
   "name": "python",
   "nbconvert_exporter": "python",
   "pygments_lexer": "ipython3",
   "version": "3.8.5"
  }
 },
 "nbformat": 4,
 "nbformat_minor": 4
}
